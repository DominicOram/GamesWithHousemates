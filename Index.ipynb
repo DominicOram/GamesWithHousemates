{
 "cells": [
  {
   "cell_type": "markdown",
   "metadata": {},
   "source": [
    "# Welcome to Jupyter!"
   ]
  },
  {
   "cell_type": "code",
   "execution_count": 11,
   "metadata": {},
   "outputs": [
    {
     "data": {
      "application/vnd.jupyter.widget-view+json": {
       "model_id": "3b68dcf35f7149288ec6c7d7ebbdca08",
       "version_major": 2,
       "version_minor": 0
      },
      "text/plain": [
       "interactive(children=(IntSlider(value=5, description='c', max=15, min=-5), FloatSlider(value=0.1, description=…"
      ]
     },
     "metadata": {},
     "output_type": "display_data"
    }
   ],
   "source": [
    "import math\n",
    "import numpy as np\n",
    "import matplotlib.pyplot as plt\n",
    "from matplotlib import figure\n",
    "from ipywidgets import interact\n",
    "\n",
    "\n",
    "@interact\n",
    "def sinewave(c = 5, d = 0.1):\n",
    "\n",
    "    p = np.linspace(0, 2*math.pi, 200)\n",
    "    y = np.exp(-d*p)*np.sin(p*c)\n",
    "\n",
    "    plt.plot(p, y)\n",
    "    plt.ylabel('sin(x)')\n",
    "    plt.xlabel('x')\n",
    "    plt.title('Sinwave function')\n",
    "    plt.show()"
   ]
  },
  {
   "cell_type": "code",
   "execution_count": null,
   "metadata": {},
   "outputs": [],
   "source": []
  }
 ],
 "metadata": {
  "kernelspec": {
   "display_name": "Python 3",
   "language": "python",
   "name": "python3"
  },
  "language_info": {
   "codemirror_mode": {
    "name": "ipython",
    "version": 3
   },
   "file_extension": ".py",
   "mimetype": "text/x-python",
   "name": "python",
   "nbconvert_exporter": "python",
   "pygments_lexer": "ipython3",
   "version": "3.6.13"
  }
 },
 "nbformat": 4,
 "nbformat_minor": 2
}
